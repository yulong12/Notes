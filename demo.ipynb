{
 "cells": [
  {
   "cell_type": "code",
   "execution_count": 14,
   "metadata": {},
   "outputs": [],
   "source": [
    "class ListNode(object):  \n",
    "    def __init__(self, val=0, next=None):  \n",
    "        self.val = val  \n",
    "        self.next = next  \n",
    "# Helper function to create a linked list from a list of digits  \n",
    "def create_linked_list(digits):  \n",
    "        dummy = ListNode(0)  \n",
    "        current = dummy  \n",
    "        for digit in digits:  \n",
    "            current.next = ListNode(digit)  \n",
    "            current = current.next  \n",
    "        return dummy.next  \n",
    "\n",
    "# Helper function to print a linked list  \n",
    "\n",
    "def print_linked_list(node):  \n",
    "    while node:  \n",
    "        print(node.val, end=\" -> \" if node.next else \"\\n\")  \n",
    "        node = node.next  "
   ]
  },
  {
   "cell_type": "markdown",
   "metadata": {},
   "source": [
    "## 2,两数相加\n",
    "给你两个 非空 的链表，表示两个非负的整数。它们每位数字都是按照 逆序 的方式存储的，并且每个节点只能存储 一位 数字。   \n",
    "请你将两个数相加，并以相同形式返回一个表示和的链表。   \n",
    "你可以假设除了数字 0 之外，这两个数都不会以 0 开头。   \n",
    "\n",
    "<img src=\"images/02.png\" alt=\"Description\" style=\"width: 300px; height: 200px;\">"
   ]
  },
  {
   "cell_type": "markdown",
   "metadata": {},
   "source": [
    "### 方法一：递归"
   ]
  },
  {
   "cell_type": "code",
   "execution_count": 15,
   "metadata": {},
   "outputs": [
    {
     "name": "stdout",
     "output_type": "stream",
     "text": [
      "7 -> 9 -> 1 -> 1\n"
     ]
    }
   ],
   "source": [
    "class Solution:\n",
    "    def addTwoNumbers(self, l1, l2, carry=0):\n",
    "        if l1 is None and l2 is None: \n",
    "            return ListNode(carry) if carry else None  \n",
    "        if l1 is None:\n",
    "            l1, l2 = l2, l1\n",
    "        s = carry + l1.val + (l2.val if l2 else 0)\n",
    "        l1.val = s % 10  \n",
    "        l1.next = self.addTwoNumbers(l1.next, l2.next if l2 else None, s // 10)  \n",
    "        return l1\n",
    "    \n",
    "l1=create_linked_list([2,3,4])\n",
    "l2=create_linked_list([5,6,7])\n",
    "x=Solution()\n",
    "r=x.addTwoNumbers(l1,l2)\n",
    "print_linked_list(r)"
   ]
  },
  {
   "cell_type": "markdown",
   "metadata": {},
   "source": [
    "时间复杂度：O(n)，其中 n 为 l1​ 长度和 l2​ 长度的最大值。   \n",
    "空间复杂度：O(n)。递归需要 O(n) 的栈空间。"
   ]
  },
  {
   "cell_type": "markdown",
   "metadata": {},
   "source": [
    "### 方法二：迭代算法   "
   ]
  },
  {
   "cell_type": "markdown",
   "metadata": {},
   "source": [
    "迭代的思路是，初始化答案为一个「空链表」，每次循环，向该链表末尾添加一个节点（保存一个数位）。   \n",
    "循环即遍历链表 l1​ 和 l2​，每次把两个节点值 l1​.val, l2​.val 与进位值 carry 相加，除以 10 的余数即为当前节点需要保存的数位，除以 10 的商即为新的进位值。      \n",
    "需要注意的是，在第一次循环时，我们无法往一个空节点的末尾添加节点。这里的技巧是，创建一个哨兵节点（dummy node），当成初始的「空链表」。循环结束后，哨兵节点的下一个节点就是最终要返回的链表头节点。\n"
   ]
  },
  {
   "cell_type": "code",
   "execution_count": 17,
   "metadata": {},
   "outputs": [
    {
     "name": "stdout",
     "output_type": "stream",
     "text": [
      "7 -> 9 -> 1 -> 1\n"
     ]
    }
   ],
   "source": [
    "\n",
    "class Solution:\n",
    "\n",
    "    def addTwoNumbers(self, l1, l2):\n",
    "\n",
    "        cur = dummy = ListNode()  # 哨兵节点\n",
    "        \n",
    "        carry = 0  # 进位\n",
    "        \n",
    "        while l1 or l2 or carry:  # 有一个不是空节点，或者还有进位，就继续迭代\n",
    "            \n",
    "            s = carry + (l1.val if l1 else 0) + (l2.val if l2 else 0)  # 节点值和进位加在一起\n",
    "\n",
    "            cur.next = ListNode(s % 10)  # 每个节点保存一个数位\n",
    "\n",
    "            carry = s // 10  # 新的进位\n",
    "\n",
    "            cur = cur.next  # 下一个节点\n",
    "\n",
    "            if l1: l1 = l1.next  # 下一个节点\n",
    "\n",
    "            if l2: l2 = l2.next  # 下一个节点\n",
    "\n",
    "        return dummy.next  # 哨兵节点的下一个节点就是头节点\n",
    "    \n",
    "l1=create_linked_list([2,3,4])\n",
    "l2=create_linked_list([5,6,7])\n",
    "x=Solution()\n",
    "r=x.addTwoNumbers(l1,l2)\n",
    "print_linked_list(r)\n"
   ]
  }
 ],
 "metadata": {
  "kernelspec": {
   "display_name": "Python 3",
   "language": "python",
   "name": "python3"
  },
  "language_info": {
   "codemirror_mode": {
    "name": "ipython",
    "version": 3
   },
   "file_extension": ".py",
   "mimetype": "text/x-python",
   "name": "python",
   "nbconvert_exporter": "python",
   "pygments_lexer": "ipython3",
   "version": "3.11.4"
  }
 },
 "nbformat": 4,
 "nbformat_minor": 2
}
