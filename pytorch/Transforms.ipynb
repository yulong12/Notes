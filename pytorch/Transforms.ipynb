{
 "cells": [
  {
   "cell_type": "markdown",
   "id": "6bef8d20-09b2-4467-9a2a-4878cb1f1eea",
   "metadata": {},
   "source": [
    "# Transforms"
   ]
  },
  {
   "cell_type": "markdown",
   "id": "e7dff6b1-7ced-4ceb-af2e-c6a2bad92936",
   "metadata": {},
   "source": [
    "所有的`TorchVision`数据集都有两个参数——`transform`用于修改特征，`target_transform`用于修改标签——它们接受包含转换逻辑的可调用对象。torchvision.transforms模块提供了几个常用的开箱即用的转换\n",
    "FashionMNIST功能为PIL Image格式，标签为整数。对于训练，我们需要将特征作为normalized张量，将标签作为 one-hot encoded张量。为了进行这些转换，我们使用`ToTensor`和`Lambda`。"
   ]
  },
  {
   "cell_type": "code",
   "execution_count": 4,
   "id": "814f9c48-38f2-49eb-88ad-a3df8001f046",
   "metadata": {},
   "outputs": [],
   "source": [
    "import torch\n",
    "from torchvision import datasets\n",
    "from torchvision.transforms import ToTensor, Lambda\n",
    "\n",
    "ds = datasets.FashionMNIST(\n",
    "    root=\"data\",\n",
    "    train=True,\n",
    "    download=True,\n",
    "    transform=ToTensor(),\n",
    "    target_transform=Lambda(lambda y: torch.zeros(10, dtype=torch.float).scatter_(0, torch.tensor(y), value=1))\n",
    ")"
   ]
  },
  {
   "cell_type": "markdown",
   "id": "b6e50ebb-35c8-4f88-8be2-020d5f72b355",
   "metadata": {},
   "source": [
    "#### ToTensor()\n",
    "`ToTensor` 将 PIL 图像或 NumPy `ndarray` 转换为 `FloatTensor`。并将图像的像素强度值缩放到范围 [0., 1.]"
   ]
  },
  {
   "cell_type": "markdown",
   "id": "02bd342f-45dd-4f48-9517-d4a263573671",
   "metadata": {},
   "source": [
    "#### Lambda Transforms\n",
    "Lambda变换应用于任何用户定义的Lambda函数。在这里，我们定义一个函数来将整数转换为一个`one-hot`编码张量。它首先创建一个大小为10的零张量（我们数据集中的标签数量），并调用`scatter_`，它对标签y给出的索引赋值value=1。\n",
    "```\n",
    "target_transform = Lambda(lambda y: torch.zeros(\n",
    "    10, dtype=torch.float).scatter_(dim=0, index=torch.tensor(y), value=1))\n",
    "```"
   ]
  },
  {
   "cell_type": "code",
   "execution_count": null,
   "id": "4bb2bc78-5970-4ffc-8d98-eb70de26cb7a",
   "metadata": {},
   "outputs": [],
   "source": []
  }
 ],
 "metadata": {
  "kernelspec": {
   "display_name": "Python 3 (ipykernel)",
   "language": "python",
   "name": "python3"
  },
  "language_info": {
   "codemirror_mode": {
    "name": "ipython",
    "version": 3
   },
   "file_extension": ".py",
   "mimetype": "text/x-python",
   "name": "python",
   "nbconvert_exporter": "python",
   "pygments_lexer": "ipython3",
   "version": "3.12.7"
  }
 },
 "nbformat": 4,
 "nbformat_minor": 5
}
