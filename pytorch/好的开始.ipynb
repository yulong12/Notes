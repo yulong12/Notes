{
 "cells": [
  {
   "cell_type": "markdown",
   "id": "cf1cdf0c-be7d-4c65-bbff-8bd7fa73466c",
   "metadata": {},
   "source": [
    "# 数据\n",
    "pytorch有两个基本结构来处理数据`torch.utils.data.DataLoader`和 `torch.utils.data.Dataset`\n",
    "- Dataset存储samples和相关的labels\n",
    "- Dataloader围绕Dataset包成了一个迭代器"
   ]
  },
  {
   "cell_type": "code",
   "execution_count": null,
   "id": "1362b1ef-0423-4165-a306-486f0ec01f97",
   "metadata": {},
   "outputs": [],
   "source": [
    "import torch\n",
    "from torch import nn\n",
    "from torch.utils.data import DataLoader\n",
    "from torchvision import datasets\n",
    "from torchvision.transforms import ToTensor"
   ]
  },
  {
   "cell_type": "markdown",
   "id": "df14195f-26c9-42ff-aea6-26eca4ebc4f4",
   "metadata": {},
   "source": [
    "- 1, pytorch提供了专业领域相关的包 TorchText, TorchVision, 和 TorchAudio,这些都包括数据集，这个教程我们采用torch数据集   \n",
    "torchvision.datassets模块包含许多真实视觉数据的Dataset对象，如CIFAR， COCO。\n",
    "- 2,在本教程中，我们使用FashionMNIST数据集。每个TorchVision数据集包含两个参数：transform和target_transform，分别用于修改样本和标签。"
   ]
  },
  {
   "cell_type": "code",
   "execution_count": null,
   "id": "d634a938-e860-42b0-9c5d-06e8c46d41ab",
   "metadata": {},
   "outputs": [],
   "source": [
    "# Download training data from open datasets.\n",
    "training_data = datasets.FashionMNIST(\n",
    "    root=\"data\",\n",
    "    train=True,\n",
    "    download=True,\n",
    "    transform=ToTensor(),\n",
    ")\n",
    "\n",
    "# Download test data from open datasets.\n",
    "test_data = datasets.FashionMNIST(\n",
    "    root=\"data\",\n",
    "    train=False,\n",
    "    download=True,\n",
    "    transform=ToTensor(),\n",
    ")"
   ]
  },
  {
   "cell_type": "markdown",
   "id": "741c6454-a4b5-4401-866b-7638a91cdadb",
   "metadata": {},
   "source": [
    "我们将Dataset作为参数传递给DataLoader，在dataset之上包裹了一个迭代器，并支持automatic batching, sampling, shuffling 和 multiprocess data loading，在这里我们定义一个大小为64的bachsize，在dataloader iterable中返回的每个元素包含64个features和labels。"
   ]
  },
  {
   "cell_type": "code",
   "execution_count": null,
   "id": "f724b330-fec6-4e35-a51f-44f454feeef5",
   "metadata": {},
   "outputs": [],
   "source": [
    "batch_size = 64\n",
    "\n",
    "# Create data loaders.\n",
    "train_dataloader = DataLoader(training_data, batch_size=batch_size)\n",
    "test_dataloader = DataLoader(test_data, batch_size=batch_size)\n",
    "\n",
    "for X, y in test_dataloader:\n",
    "    print(f\"Shape of X [N, C, H, W]: {X.shape}\")\n",
    "    print(f\"Shape of y: {y.shape} {y.dtype}\")\n",
    "    break"
   ]
  },
  {
   "cell_type": "markdown",
   "id": "de11cc36-7404-444f-a2fc-fda23bec4026",
   "metadata": {},
   "source": [
    "# 创建模型"
   ]
  },
  {
   "cell_type": "markdown",
   "id": "89bb6908-64c8-4cc5-abe6-fd7e4655a8cc",
   "metadata": {},
   "source": [
    "- 为了定义一个神经网络，我们定义了一个继承自nn.Module的类。\n",
    "- 我们在__init__函数中定义网络的layers，并在forward函数中指定数据如何通过网络传输。\n",
    "- 为了加速神经网络的操作，我们将其转移到GPU或MPS（如果有的话）"
   ]
  },
  {
   "cell_type": "code",
   "execution_count": null,
   "id": "80d71649-ada2-43a1-915d-00d777977038",
   "metadata": {},
   "outputs": [],
   "source": [
    "# Get cpu, gpu or mps device for training.\n",
    "device = (\n",
    "    \"cuda\"\n",
    "    if torch.cuda.is_available()\n",
    "    else \"mps\"\n",
    "    if torch.backends.mps.is_available()\n",
    "    else \"cpu\"\n",
    ")\n",
    "print(f\"Using {device} device\")\n",
    "\n",
    "# Define model\n",
    "class NeuralNetwork(nn.Module):\n",
    "    def __init__(self):\n",
    "        super().__init__()\n",
    "        self.flatten = nn.Flatten()\n",
    "        self.linear_relu_stack = nn.Sequential(\n",
    "            nn.Linear(28*28, 512),\n",
    "            nn.ReLU(),\n",
    "            nn.Linear(512, 512),\n",
    "            nn.ReLU(),\n",
    "            nn.Linear(512, 10)\n",
    "        )\n",
    "\n",
    "    def forward(self, x):\n",
    "        x = self.flatten(x)\n",
    "        logits = self.linear_relu_stack(x)\n",
    "        return logits\n",
    "\n",
    "model = NeuralNetwork().to(device)\n",
    "print(model)"
   ]
  },
  {
   "cell_type": "markdown",
   "id": "2702014f-e186-4d30-b28e-1868db94f5a5",
   "metadata": {},
   "source": [
    "# 优化模型参数"
   ]
  },
  {
   "cell_type": "markdown",
   "id": "79ed9b00-015d-4456-ab67-2ae849195677",
   "metadata": {},
   "source": [
    "为了训练一个model，我们需要一个损失函数和一个优化器"
   ]
  },
  {
   "cell_type": "code",
   "execution_count": null,
   "id": "4407824f-c8c4-446e-94df-a8729e0119d9",
   "metadata": {},
   "outputs": [],
   "source": [
    "loss_fn = nn.CrossEntropyLoss()\n",
    "optimizer = torch.optim.SGD(model.parameters(), lr=1e-3)"
   ]
  },
  {
   "cell_type": "markdown",
   "id": "839a047e-9da8-4808-a876-89e67d36c289",
   "metadata": {},
   "source": [
    "在单个训练循环中，模型对训练数据集进行预测（批量提供给它），并反向传播预测误差以调整模型的参数。"
   ]
  },
  {
   "cell_type": "code",
   "execution_count": null,
   "id": "f7415160-ca66-431d-b8e3-4edd926f02d8",
   "metadata": {},
   "outputs": [],
   "source": [
    "def train(dataloader, model, loss_fn, optimizer):\n",
    "    size = len(dataloader.dataset)\n",
    "    model.train()\n",
    "    for batch, (X, y) in enumerate(dataloader):\n",
    "        X, y = X.to(device), y.to(device)\n",
    "\n",
    "        # Compute prediction error\n",
    "        pred = model(X)\n",
    "        loss = loss_fn(pred, y)\n",
    "\n",
    "        # Backpropagation\n",
    "        loss.backward()\n",
    "        optimizer.step()\n",
    "        optimizer.zero_grad()\n",
    "\n",
    "        if batch % 100 == 0:\n",
    "            loss, current = loss.item(), (batch + 1) * len(X)\n",
    "            print(f\"loss: {loss:>7f}  [{current:>5d}/{size:>5d}]\")"
   ]
  },
  {
   "cell_type": "markdown",
   "id": "d7e2de1d-577f-443e-b379-fc90642e1976",
   "metadata": {},
   "source": [
    "我们还根据测试数据集检查模型的性能，以确保它正在学习。"
   ]
  },
  {
   "cell_type": "code",
   "execution_count": null,
   "id": "4f0aead7-73a6-46ee-a46c-79e5af7080d2",
   "metadata": {},
   "outputs": [],
   "source": [
    "def test(dataloader, model, loss_fn):\n",
    "    size = len(dataloader.dataset)\n",
    "    num_batches = len(dataloader)\n",
    "    model.eval()\n",
    "    test_loss, correct = 0, 0\n",
    "    with torch.no_grad():\n",
    "        for X, y in dataloader:\n",
    "            X, y = X.to(device), y.to(device)\n",
    "            pred = model(X)\n",
    "            test_loss += loss_fn(pred, y).item()\n",
    "            correct += (pred.argmax(1) == y).type(torch.float).sum().item()\n",
    "    test_loss /= num_batches\n",
    "    correct /= size\n",
    "    print(f\"Test Error: \\n Accuracy: {(100*correct):>0.1f}%, Avg loss: {test_loss:>8f} \\n\")"
   ]
  },
  {
   "cell_type": "markdown",
   "id": "25c61900-d009-4c17-b47b-f1457f476558",
   "metadata": {},
   "source": [
    "训练过程在几个迭代（时期）中进行。在每个时期，模型学习参数以做出更好的预测。我们打印出模型在每个时期的精度和损失；我们希望看到精度随着时间的推移而提高，损失随着时间的推移而减少。"
   ]
  },
  {
   "cell_type": "code",
   "execution_count": null,
   "id": "09522b7b-824d-466f-a81e-d55dc58611b6",
   "metadata": {},
   "outputs": [],
   "source": [
    "epochs = 5\n",
    "for t in range(epochs):\n",
    "    print(f\"Epoch {t+1}\\n-------------------------------\")\n",
    "    train(train_dataloader, model, loss_fn, optimizer)\n",
    "    test(test_dataloader, model, loss_fn)\n",
    "print(\"Done!\")"
   ]
  },
  {
   "cell_type": "markdown",
   "id": "6a036b3d-db02-4e1a-a334-af88c152fb50",
   "metadata": {},
   "source": [
    "# 保存模型\n",
    "保存模型的一种常用方法是序列化内部状态字典（包含模型参数）"
   ]
  },
  {
   "cell_type": "code",
   "execution_count": null,
   "id": "7d0667d6-dcda-427f-b88a-3416831b02f6",
   "metadata": {},
   "outputs": [],
   "source": [
    "torch.save(model.state_dict(), \"model.pth\")\n",
    "print(\"Saved PyTorch Model State to model.pth\")"
   ]
  },
  {
   "cell_type": "markdown",
   "id": "3d256e90-da72-46ad-96de-5a5c2ff170b2",
   "metadata": {},
   "source": [
    "# 加载模型"
   ]
  },
  {
   "cell_type": "markdown",
   "id": "21656009-d9a2-48ad-8307-c986136b51d4",
   "metadata": {},
   "source": [
    "加载模型的过程包括重新创建模型结构并将状态字典加载到模型中"
   ]
  },
  {
   "cell_type": "code",
   "execution_count": null,
   "id": "01da252d-ed76-4717-b533-fe8ff32df8e6",
   "metadata": {},
   "outputs": [],
   "source": [
    "model = NeuralNetwork().to(device)\n",
    "model.load_state_dict(torch.load(\"model.pth\", weights_only=True))"
   ]
  },
  {
   "cell_type": "markdown",
   "id": "fb67681e-bdf4-40a1-ad94-0163798dd066",
   "metadata": {},
   "source": [
    "这个模型现在可以用来做预测。"
   ]
  },
  {
   "cell_type": "code",
   "execution_count": null,
   "id": "88b5cb20-a00d-4539-91e8-7486a3fdb858",
   "metadata": {},
   "outputs": [],
   "source": [
    "classes = [\n",
    "    \"T-shirt/top\",\n",
    "    \"Trouser\",\n",
    "    \"Pullover\",\n",
    "    \"Dress\",\n",
    "    \"Coat\",\n",
    "    \"Sandal\",\n",
    "    \"Shirt\",\n",
    "    \"Sneaker\",\n",
    "    \"Bag\",\n",
    "    \"Ankle boot\",\n",
    "]\n",
    "\n",
    "model.eval()\n",
    "x, y = test_data[0][0], test_data[0][1]\n",
    "with torch.no_grad():\n",
    "    x = x.to(device)\n",
    "    pred = model(x)\n",
    "    predicted, actual = classes[pred[0].argmax(0)], classes[y]\n",
    "    print(f'Predicted: \"{predicted}\", Actual: \"{actual}\"')"
   ]
  }
 ],
 "metadata": {
  "kernelspec": {
   "display_name": "Python 3 (ipykernel)",
   "language": "python",
   "name": "python3"
  },
  "language_info": {
   "codemirror_mode": {
    "name": "ipython",
    "version": 3
   },
   "file_extension": ".py",
   "mimetype": "text/x-python",
   "name": "python",
   "nbconvert_exporter": "python",
   "pygments_lexer": "ipython3",
   "version": "3.12.7"
  }
 },
 "nbformat": 4,
 "nbformat_minor": 5
}
